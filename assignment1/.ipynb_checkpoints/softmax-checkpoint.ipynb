{
 "cells": [
  {
   "cell_type": "markdown",
   "metadata": {},
   "source": [
    "# Softmax exercise\n",
    "\n",
    "*Complete and hand in this completed worksheet (including its outputs and any supporting code outside of the worksheet) with your assignment submission. For more details see the [assignments page](http://vision.stanford.edu/teaching/cs231n/assignments.html) on the course website.*\n",
    "\n",
    "This exercise is analogous to the SVM exercise. You will:\n",
    "\n",
    "- implement a fully-vectorized **loss function** for the Softmax classifier\n",
    "- implement the fully-vectorized expression for its **analytic gradient**\n",
    "- **check your implementation** with numerical gradient\n",
    "- use a validation set to **tune the learning rate and regularization** strength\n",
    "- **optimize** the loss function with **SGD**\n",
    "- **visualize** the final learned weights\n"
   ]
  },
  {
   "cell_type": "code",
   "execution_count": 3,
   "metadata": {},
   "outputs": [],
   "source": [
    "from __future__ import print_function\n",
    "\n",
    "import random\n",
    "import numpy as np\n",
    "from cs231n.data_utils import load_CIFAR10\n",
    "import matplotlib.pyplot as plt\n",
    "\n",
    "%matplotlib inline\n",
    "plt.rcParams['figure.figsize'] = (10.0, 8.0) # set default size of plots\n",
    "plt.rcParams['image.interpolation'] = 'nearest'\n",
    "plt.rcParams['image.cmap'] = 'gray'\n",
    "\n",
    "# for auto-reloading extenrnal modules\n",
    "# see http://stackoverflow.com/questions/1907993/autoreload-of-modules-in-ipython\n",
    "%load_ext autoreload\n",
    "%autoreload 2"
   ]
  },
  {
   "cell_type": "code",
   "execution_count": 4,
   "metadata": {},
   "outputs": [
    {
     "name": "stdout",
     "output_type": "stream",
     "text": [
      "Train data shape:  (49000, 3073)\n",
      "Train labels shape:  (49000,)\n",
      "Validation data shape:  (1000, 3073)\n",
      "Validation labels shape:  (1000,)\n",
      "Test data shape:  (1000, 3073)\n",
      "Test labels shape:  (1000,)\n",
      "dev data shape:  (500, 3073)\n",
      "dev labels shape:  (500,)\n"
     ]
    }
   ],
   "source": [
    "def get_CIFAR10_data(num_training=49000, num_validation=1000, num_test=1000, num_dev=500):\n",
    "    \"\"\"\n",
    "    Load the CIFAR-10 dataset from disk and perform preprocessing to prepare\n",
    "    it for the linear classifier. These are the same steps as we used for the\n",
    "    SVM, but condensed to a single function.  \n",
    "    \"\"\"\n",
    "    # Load the raw CIFAR-10 data\n",
    "    cifar10_dir = 'cs231n/datasets/cifar-10-batches-py'\n",
    "    \n",
    "    X_train, y_train, X_test, y_test = load_CIFAR10(cifar10_dir)\n",
    "    \n",
    "    # subsample the data\n",
    "    mask = list(range(num_training, num_training + num_validation))\n",
    "    X_val = X_train[mask]\n",
    "    y_val = y_train[mask]\n",
    "    mask = list(range(num_training))\n",
    "    X_train = X_train[mask]\n",
    "    y_train = y_train[mask]\n",
    "    mask = list(range(num_test))\n",
    "    X_test = X_test[mask]\n",
    "    y_test = y_test[mask]\n",
    "    mask = np.random.choice(num_training, num_dev, replace=False)\n",
    "    X_dev = X_train[mask]\n",
    "    y_dev = y_train[mask]\n",
    "    \n",
    "    # Preprocessing: reshape the image data into rows\n",
    "    X_train = np.reshape(X_train, (X_train.shape[0], -1))\n",
    "    X_val = np.reshape(X_val, (X_val.shape[0], -1))\n",
    "    X_test = np.reshape(X_test, (X_test.shape[0], -1))\n",
    "    X_dev = np.reshape(X_dev, (X_dev.shape[0], -1))\n",
    "    \n",
    "    # Normalize the data: subtract the mean image\n",
    "    mean_image = np.mean(X_train, axis = 0)\n",
    "    X_train -= mean_image\n",
    "    X_val -= mean_image\n",
    "    X_test -= mean_image\n",
    "    X_dev -= mean_image\n",
    "    \n",
    "    # add bias dimension and transform into columns\n",
    "    X_train = np.hstack([X_train, np.ones((X_train.shape[0], 1))])\n",
    "    X_val = np.hstack([X_val, np.ones((X_val.shape[0], 1))])\n",
    "    X_test = np.hstack([X_test, np.ones((X_test.shape[0], 1))])\n",
    "    X_dev = np.hstack([X_dev, np.ones((X_dev.shape[0], 1))])\n",
    "    \n",
    "    return X_train, y_train, X_val, y_val, X_test, y_test, X_dev, y_dev\n",
    "\n",
    "\n",
    "# Cleaning up variables to prevent loading data multiple times (which may cause memory issue)\n",
    "try:\n",
    "   del X_train, y_train\n",
    "   del X_test, y_test\n",
    "   print('Clear previously loaded data.')\n",
    "except:\n",
    "   pass\n",
    "\n",
    "# Invoke the above function to get our data.\n",
    "X_train, y_train, X_val, y_val, X_test, y_test, X_dev, y_dev = get_CIFAR10_data()\n",
    "print('Train data shape: ', X_train.shape)\n",
    "print('Train labels shape: ', y_train.shape)\n",
    "print('Validation data shape: ', X_val.shape)\n",
    "print('Validation labels shape: ', y_val.shape)\n",
    "print('Test data shape: ', X_test.shape)\n",
    "print('Test labels shape: ', y_test.shape)\n",
    "print('dev data shape: ', X_dev.shape)\n",
    "print('dev labels shape: ', y_dev.shape)"
   ]
  },
  {
   "cell_type": "markdown",
   "metadata": {},
   "source": [
    "## Softmax Classifier\n",
    "\n",
    "Your code for this section will all be written inside **cs231n/classifiers/softmax.py**. \n"
   ]
  },
  {
   "cell_type": "code",
   "execution_count": 32,
   "metadata": {},
   "outputs": [
    {
     "name": "stdout",
     "output_type": "stream",
     "text": [
      "loss: 2.371437\n",
      "sanity check: 2.302585\n"
     ]
    }
   ],
   "source": [
    "# First implement the naive softmax loss function with nested loops.\n",
    "# Open the file cs231n/classifiers/softmax.py and implement the\n",
    "# softmax_loss_naive function.\n",
    "\n",
    "from cs231n.classifiers.softmax import softmax_loss_naive\n",
    "import time\n",
    "\n",
    "# Generate a random softmax weight matrix and use it to compute the loss.''\n",
    "W = np.random.randn(3073, 10) * 0.0001\n",
    "loss, grad = softmax_loss_naive(W, X_dev, y_dev, 0.0)\n",
    "\n",
    "# As a rough sanity check, our loss should be something close to -log(0.1).\n",
    "print('loss: %f' % loss)\n",
    "print('sanity check: %f' % (-np.log(0.1)))"
   ]
  },
  {
   "cell_type": "markdown",
   "metadata": {},
   "source": [
    "## Inline Question 1:\n",
    "Why do we expect our loss to be close to -log(0.1)? Explain briefly.**\n",
    "\n",
    "**Your answer:** \n",
    "Because with random initial weights probability of each of ten classes is approximataly 10%, \n",
    "so we expect term eyi / sum(ei) to be 0.1"
   ]
  },
  {
   "cell_type": "code",
   "execution_count": 37,
   "metadata": {},
   "outputs": [
    {
     "name": "stdout",
     "output_type": "stream",
     "text": [
      "numerical: -4.127718 analytic: -4.127718, relative error: 5.801441e-10\n",
      "numerical: -0.664281 analytic: -0.664281, relative error: 8.199503e-09\n",
      "numerical: -1.303366 analytic: -1.303366, relative error: 8.165692e-09\n",
      "numerical: -2.053210 analytic: -2.053210, relative error: 8.880514e-09\n",
      "numerical: 1.011398 analytic: 1.011398, relative error: 5.767884e-08\n",
      "numerical: -2.125488 analytic: -2.125488, relative error: 8.264741e-09\n",
      "numerical: 1.463707 analytic: 1.463707, relative error: 1.936167e-08\n",
      "numerical: -0.375212 analytic: -0.375212, relative error: 1.774755e-08\n",
      "numerical: -0.109088 analytic: -0.109088, relative error: 2.899383e-08\n",
      "numerical: 0.897367 analytic: 0.897367, relative error: 3.917410e-08\n",
      "numerical: -0.519127 analytic: -0.519127, relative error: 3.370196e-08\n",
      "numerical: 1.488259 analytic: 1.488259, relative error: 1.602863e-08\n",
      "numerical: 2.542923 analytic: 2.542923, relative error: 1.586515e-08\n",
      "numerical: -0.976267 analytic: -0.976267, relative error: 7.072077e-08\n",
      "numerical: 0.852340 analytic: 0.852340, relative error: 3.163366e-08\n",
      "numerical: -0.078587 analytic: -0.078587, relative error: 1.733587e-07\n",
      "numerical: -1.550831 analytic: -1.550831, relative error: 1.061554e-08\n",
      "numerical: 1.162320 analytic: 1.162319, relative error: 1.033998e-07\n",
      "numerical: -0.034928 analytic: -0.034928, relative error: 2.360148e-06\n",
      "numerical: 2.499173 analytic: 2.499172, relative error: 2.002010e-08\n"
     ]
    }
   ],
   "source": [
    "# Complete the implementation of softmax_loss_naive and implement a (naive)\n",
    "# version of the gradient that uses nested loops.\n",
    "loss, grad = softmax_loss_naive(W, X_dev, y_dev, 0.0)\n",
    "\n",
    "# As we did for the SVM, use numeric gradient checking as a debugging tool.\n",
    "# The numeric gradient should be close to the analytic gradient.\n",
    "from cs231n.gradient_check import grad_check_sparse\n",
    "f = lambda w: softmax_loss_naive(w, X_dev, y_dev, 0.0)[0]\n",
    "grad_numerical = grad_check_sparse(f, W, grad, 10)\n",
    "\n",
    "# similar to SVM case, do another gradient check with regularization\n",
    "loss, grad = softmax_loss_naive(W, X_dev, y_dev, 5e1)\n",
    "f = lambda w: softmax_loss_naive(w, X_dev, y_dev, 5e1)[0]\n",
    "grad_numerical = grad_check_sparse(f, W, grad, 10)"
   ]
  },
  {
   "cell_type": "code",
   "execution_count": 49,
   "metadata": {},
   "outputs": [
    {
     "name": "stdout",
     "output_type": "stream",
     "text": [
      "naive loss: 2.371437e+00 computed in 0.203631s\n",
      "vectorized loss: 2.371437e+00 computed in 0.008963s\n",
      "Loss difference: 0.000000\n",
      "Gradient difference: 0.000000\n"
     ]
    }
   ],
   "source": [
    "# Now that we have a naive implementation of the softmax loss function and its gradient,\n",
    "# implement a vectorized version in softmax_loss_vectorized.\n",
    "# The two versions should compute the same results, but the vectorized version should be\n",
    "# much faster.\n",
    "tic = time.time()\n",
    "loss_naive, grad_naive = softmax_loss_naive(W, X_dev, y_dev, 0.000005)\n",
    "toc = time.time()\n",
    "print('naive loss: %e computed in %fs' % (loss_naive, toc - tic))\n",
    "\n",
    "from cs231n.classifiers.softmax import softmax_loss_vectorized\n",
    "tic = time.time()\n",
    "loss_vectorized, grad_vectorized = softmax_loss_vectorized(W, X_dev, y_dev, 0.000005)\n",
    "toc = time.time()\n",
    "print('vectorized loss: %e computed in %fs' % (loss_vectorized, toc - tic))\n",
    "\n",
    "# As we did for the SVM, we use the Frobenius norm to compare the two versions\n",
    "# of the gradient.\n",
    "grad_difference = np.linalg.norm(grad_naive - grad_vectorized, ord='fro')\n",
    "print('Loss difference: %f' % np.abs(loss_naive - loss_vectorized))\n",
    "print('Gradient difference: %f' % grad_difference)"
   ]
  },
  {
   "cell_type": "code",
   "execution_count": 61,
   "metadata": {},
   "outputs": [
    {
     "name": "stdout",
     "output_type": "stream",
     "text": [
      "lr 1.000000e-07 reg 2.500000e+04 train accuracy: 0.306510 val accuracy: 0.315000\n",
      "lr 1.000000e-07 reg 2.857143e+04 train accuracy: 0.315776 val accuracy: 0.320000\n",
      "lr 1.000000e-07 reg 3.214286e+04 train accuracy: 0.316776 val accuracy: 0.331000\n",
      "lr 1.000000e-07 reg 3.571429e+04 train accuracy: 0.314551 val accuracy: 0.323000\n",
      "lr 1.000000e-07 reg 3.928571e+04 train accuracy: 0.316837 val accuracy: 0.322000\n",
      "lr 1.000000e-07 reg 4.285714e+04 train accuracy: 0.308224 val accuracy: 0.322000\n",
      "lr 1.000000e-07 reg 4.642857e+04 train accuracy: 0.308939 val accuracy: 0.327000\n",
      "lr 1.000000e-07 reg 5.000000e+04 train accuracy: 0.305612 val accuracy: 0.321000\n",
      "lr 1.571429e-07 reg 2.500000e+04 train accuracy: 0.328633 val accuracy: 0.328000\n",
      "lr 1.571429e-07 reg 2.857143e+04 train accuracy: 0.334102 val accuracy: 0.346000\n",
      "lr 1.571429e-07 reg 3.214286e+04 train accuracy: 0.322061 val accuracy: 0.325000\n",
      "lr 1.571429e-07 reg 3.571429e+04 train accuracy: 0.316755 val accuracy: 0.340000\n",
      "lr 1.571429e-07 reg 3.928571e+04 train accuracy: 0.310878 val accuracy: 0.324000\n",
      "lr 1.571429e-07 reg 4.285714e+04 train accuracy: 0.307633 val accuracy: 0.326000\n",
      "lr 1.571429e-07 reg 4.642857e+04 train accuracy: 0.317918 val accuracy: 0.325000\n",
      "lr 1.571429e-07 reg 5.000000e+04 train accuracy: 0.300490 val accuracy: 0.313000\n",
      "lr 2.142857e-07 reg 2.500000e+04 train accuracy: 0.335531 val accuracy: 0.347000\n",
      "lr 2.142857e-07 reg 2.857143e+04 train accuracy: 0.320816 val accuracy: 0.332000\n",
      "lr 2.142857e-07 reg 3.214286e+04 train accuracy: 0.318429 val accuracy: 0.337000\n",
      "lr 2.142857e-07 reg 3.571429e+04 train accuracy: 0.313000 val accuracy: 0.335000\n",
      "lr 2.142857e-07 reg 3.928571e+04 train accuracy: 0.305612 val accuracy: 0.323000\n",
      "lr 2.142857e-07 reg 4.285714e+04 train accuracy: 0.305816 val accuracy: 0.316000\n",
      "lr 2.142857e-07 reg 4.642857e+04 train accuracy: 0.311388 val accuracy: 0.334000\n",
      "lr 2.142857e-07 reg 5.000000e+04 train accuracy: 0.309571 val accuracy: 0.313000\n",
      "lr 2.714286e-07 reg 2.500000e+04 train accuracy: 0.322286 val accuracy: 0.339000\n",
      "lr 2.714286e-07 reg 2.857143e+04 train accuracy: 0.324204 val accuracy: 0.339000\n",
      "lr 2.714286e-07 reg 3.214286e+04 train accuracy: 0.323449 val accuracy: 0.332000\n",
      "lr 2.714286e-07 reg 3.571429e+04 train accuracy: 0.315796 val accuracy: 0.327000\n",
      "lr 2.714286e-07 reg 3.928571e+04 train accuracy: 0.301245 val accuracy: 0.313000\n",
      "lr 2.714286e-07 reg 4.285714e+04 train accuracy: 0.320755 val accuracy: 0.333000\n",
      "lr 2.714286e-07 reg 4.642857e+04 train accuracy: 0.302735 val accuracy: 0.314000\n",
      "lr 2.714286e-07 reg 5.000000e+04 train accuracy: 0.309082 val accuracy: 0.311000\n",
      "lr 3.285714e-07 reg 2.500000e+04 train accuracy: 0.320714 val accuracy: 0.339000\n",
      "lr 3.285714e-07 reg 2.857143e+04 train accuracy: 0.323184 val accuracy: 0.338000\n",
      "lr 3.285714e-07 reg 3.214286e+04 train accuracy: 0.317469 val accuracy: 0.322000\n",
      "lr 3.285714e-07 reg 3.571429e+04 train accuracy: 0.320265 val accuracy: 0.330000\n",
      "lr 3.285714e-07 reg 3.928571e+04 train accuracy: 0.311143 val accuracy: 0.322000\n",
      "lr 3.285714e-07 reg 4.285714e+04 train accuracy: 0.311959 val accuracy: 0.325000\n",
      "lr 3.285714e-07 reg 4.642857e+04 train accuracy: 0.295449 val accuracy: 0.311000\n",
      "lr 3.285714e-07 reg 5.000000e+04 train accuracy: 0.306020 val accuracy: 0.316000\n",
      "lr 3.857143e-07 reg 2.500000e+04 train accuracy: 0.319327 val accuracy: 0.340000\n",
      "lr 3.857143e-07 reg 2.857143e+04 train accuracy: 0.327204 val accuracy: 0.338000\n",
      "lr 3.857143e-07 reg 3.214286e+04 train accuracy: 0.323265 val accuracy: 0.344000\n",
      "lr 3.857143e-07 reg 3.571429e+04 train accuracy: 0.318735 val accuracy: 0.330000\n",
      "lr 3.857143e-07 reg 3.928571e+04 train accuracy: 0.306878 val accuracy: 0.318000\n",
      "lr 3.857143e-07 reg 4.285714e+04 train accuracy: 0.307673 val accuracy: 0.323000\n",
      "lr 3.857143e-07 reg 4.642857e+04 train accuracy: 0.317204 val accuracy: 0.327000\n",
      "lr 3.857143e-07 reg 5.000000e+04 train accuracy: 0.308102 val accuracy: 0.326000\n",
      "lr 4.428571e-07 reg 2.500000e+04 train accuracy: 0.331020 val accuracy: 0.335000\n",
      "lr 4.428571e-07 reg 2.857143e+04 train accuracy: 0.326816 val accuracy: 0.327000\n",
      "lr 4.428571e-07 reg 3.214286e+04 train accuracy: 0.314776 val accuracy: 0.332000\n",
      "lr 4.428571e-07 reg 3.571429e+04 train accuracy: 0.317837 val accuracy: 0.329000\n",
      "lr 4.428571e-07 reg 3.928571e+04 train accuracy: 0.313388 val accuracy: 0.328000\n",
      "lr 4.428571e-07 reg 4.285714e+04 train accuracy: 0.301898 val accuracy: 0.317000\n",
      "lr 4.428571e-07 reg 4.642857e+04 train accuracy: 0.300939 val accuracy: 0.323000\n",
      "lr 4.428571e-07 reg 5.000000e+04 train accuracy: 0.298959 val accuracy: 0.319000\n",
      "lr 5.000000e-07 reg 2.500000e+04 train accuracy: 0.319429 val accuracy: 0.331000\n",
      "lr 5.000000e-07 reg 2.857143e+04 train accuracy: 0.321857 val accuracy: 0.340000\n",
      "lr 5.000000e-07 reg 3.214286e+04 train accuracy: 0.313898 val accuracy: 0.331000\n",
      "lr 5.000000e-07 reg 3.571429e+04 train accuracy: 0.308469 val accuracy: 0.327000\n",
      "lr 5.000000e-07 reg 3.928571e+04 train accuracy: 0.308510 val accuracy: 0.329000\n",
      "lr 5.000000e-07 reg 4.285714e+04 train accuracy: 0.309959 val accuracy: 0.332000\n",
      "lr 5.000000e-07 reg 4.642857e+04 train accuracy: 0.314653 val accuracy: 0.323000\n",
      "lr 5.000000e-07 reg 5.000000e+04 train accuracy: 0.303306 val accuracy: 0.321000\n",
      "best validation accuracy achieved during cross-validation: 0.347000\n"
     ]
    }
   ],
   "source": [
    "# Use the validation set to tune hyperparameters (regularization strength and\n",
    "# learning rate). You should experiment with different ranges for the learning\n",
    "# rates and regularization strengths; if you are careful you should be able to\n",
    "# get a classification accuracy of over 0.35 on the validation set.\n",
    "from cs231n.classifiers import Softmax\n",
    "results = {}\n",
    "best_val = -1\n",
    "best_softmax = None\n",
    "learning_rates = [1e-7, 5e-7]\n",
    "regularization_strengths = [2.5e4, 5e4]\n",
    "\n",
    "################################################################################\n",
    "# TODO:                                                                        #\n",
    "# Use the validation set to set the learning rate and regularization strength. #\n",
    "# This should be identical to the validation that you did for the SVM; save    #\n",
    "# the best trained softmax classifer in best_softmax.                          #\n",
    "################################################################################\n",
    "for lr in np.linspace(learning_rates[0], learning_rates[1], 8):\n",
    "    for reg in np.linspace(regularization_strengths[0], regularization_strengths[1], 8):\n",
    "        softmax = Softmax()\n",
    "        softmax.train(X_train, y_train, learning_rate=lr, reg=reg, num_iters=500)\n",
    "        \n",
    "        y_train_pred = softmax.predict(X_train)\n",
    "        train_acc = np.mean(y_train_pred == y_train)\n",
    "        \n",
    "        y_val_pred = softmax.predict(X_val)\n",
    "        val_acc = np.mean(y_val_pred == y_val)\n",
    "        \n",
    "        results[(lr, reg)] = (train_acc, val_acc)\n",
    "        \n",
    "        if val_acc >= best_val:\n",
    "            best_val = val_acc\n",
    "            best_softmax = softmax\n",
    "################################################################################\n",
    "#                              END OF YOUR CODE                                #\n",
    "################################################################################\n",
    "    \n",
    "# Print out results.\n",
    "for lr, reg in sorted(results):\n",
    "    train_accuracy, val_accuracy = results[(lr, reg)]\n",
    "    print('lr %e reg %e train accuracy: %f val accuracy: %f' % (\n",
    "                lr, reg, train_accuracy, val_accuracy))\n",
    "    \n",
    "print('best validation accuracy achieved during cross-validation: %f' % best_val)"
   ]
  },
  {
   "cell_type": "code",
   "execution_count": 62,
   "metadata": {},
   "outputs": [
    {
     "name": "stdout",
     "output_type": "stream",
     "text": [
      "softmax on raw pixels final test set accuracy: 0.350000\n"
     ]
    }
   ],
   "source": [
    "# evaluate on test set\n",
    "# Evaluate the best softmax on test set\n",
    "y_test_pred = best_softmax.predict(X_test)\n",
    "test_accuracy = np.mean(y_test == y_test_pred)\n",
    "print('softmax on raw pixels final test set accuracy: %f' % (test_accuracy, ))"
   ]
  },
  {
   "cell_type": "markdown",
   "metadata": {},
   "source": [
    "**Inline Question** - *True or False*\n",
    "\n",
    "It's possible to add a new datapoint to a training set that would leave the SVM loss unchanged, but this is not the case with the Softmax classifier loss.\n",
    "\n",
    "True, because if this new data point will satisfy margin constraint when using SVM it wouldn't cause any additional loss, but Softmax calssifier always tries to better match examples and i cannot be satisfied completly"
   ]
  },
  {
   "cell_type": "code",
   "execution_count": 63,
   "metadata": {},
   "outputs": [
    {
     "data": {
      "image/png": "[encoded data removed]",
      "text/plain": [
       "<Figure size 432x288 with 10 Axes>"
      ]
     },
     "metadata": {
      "needs_background": "light"
     },
     "output_type": "display_data"
    }
   ],
   "source": [
    "# Visualize the learned weights for each class\n",
    "w = best_softmax.W[:-1,:] # strip out the bias\n",
    "w = w.reshape(32, 32, 3, 10)\n",
    "\n",
    "w_min, w_max = np.min(w), np.max(w)\n",
    "\n",
    "classes = ['plane', 'car', 'bird', 'cat', 'deer', 'dog', 'frog', 'horse', 'ship', 'truck']\n",
    "for i in range(10):\n",
    "    plt.subplot(2, 5, i + 1)\n",
    "    \n",
    "    # Rescale the weights to be between 0 and 255\n",
    "    wimg = 255.0 * (w[:, :, :, i].squeeze() - w_min) / (w_max - w_min)\n",
    "    plt.imshow(wimg.astype('uint8'))\n",
    "    plt.axis('off')\n",
    "    plt.title(classes[i])"
   ]
  },
  {
   "cell_type": "code",
   "execution_count": null,
   "metadata": {},
   "outputs": [],
   "source": []
  }
 ],
 "metadata": {
  "kernelspec": {
   "display_name": "Python 3",
   "language": "python",
   "name": "python3"
  },
  "language_info": {
   "codemirror_mode": {
    "name": "ipython",
    "version": 3
   },
   "file_extension": ".py",
   "mimetype": "text/x-python",
   "name": "python",
   "nbconvert_exporter": "python",
   "pygments_lexer": "ipython3",
   "version": "3.6.7"
  }
 },
 "nbformat": 4,
 "nbformat_minor": 1
}
